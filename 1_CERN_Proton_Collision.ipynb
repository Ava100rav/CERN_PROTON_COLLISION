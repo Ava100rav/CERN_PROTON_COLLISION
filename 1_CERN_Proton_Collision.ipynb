{
  "nbformat": 4,
  "nbformat_minor": 0,
  "metadata": {
    "colab": {
      "name": "1_CERN Proton Collision.ipynb",
      "provenance": [],
      "authorship_tag": "ABX9TyMDYZjJmXwYEIMeXjZmJT0d",
      "include_colab_link": true
    },
    "kernelspec": {
      "name": "python3",
      "display_name": "Python 3"
    },
    "language_info": {
      "name": "python"
    }
  },
  "cells": [
    {
      "cell_type": "markdown",
      "metadata": {
        "id": "view-in-github",
        "colab_type": "text"
      },
      "source": [
        "<a href=\"https://colab.research.google.com/github/Ava100rav/CERN_proton_collision/blob/main/1_CERN_Proton_Collision.ipynb\" target=\"_parent\"><img src=\"https://colab.research.google.com/assets/colab-badge.svg\" alt=\"Open In Colab\"/></a>"
      ]
    },
    {
      "cell_type": "code",
      "source": [
        "# DATASET : -   https://www.kaggle.com/fedesoriano/multijet-primary-dataset"
      ],
      "metadata": {
        "id": "v_ZYQXuFrg73"
      },
      "execution_count": null,
      "outputs": []
    },
    {
      "cell_type": "markdown",
      "source": [
        "CONTEXT"
      ],
      "metadata": {
        "id": "Mv9xBMQkrs_P"
      }
    },
    {
      "cell_type": "markdown",
      "source": [
        "MultiJet primary dataset in AOD format from RunB of 2010. This dataset contains runs from 2010 RunB. The list of all validated runs, which must be applied to all analyses.   This file contains events from the MultiJet primary dataset from the CMS open data release, and computes the razor variables MR and Rsq, used in supersymmetric particle searches."
      ],
      "metadata": {
        "id": "YR8zPiwNr2fY"
      }
    },
    {
      "cell_type": "code",
      "source": [
        "# 1) Run: The run number of the event.\n",
        "# 2) Lumi: The lumi section of the event.\n",
        "# 3) Event: The event number of the event.\n",
        "# 4) MR: First razor kinematic variable, the MR variable is an estimate of an overall mass scale, \n",
        "#                  which in the limit of massless decay products equals the mass of the heavy parent particle.\n",
        "# 5) Rsq: Second razor kinematic variable, the Rsq variable is the square of the ratio R, \n",
        "#   which quantifies the flow of energy in the plane perpendicular to the beam and the partitioning of momentum between visible and invisible particles.\n",
        "# 6,7,8,9) E1,Px1,Py1,Pz1: The four-vector of the leading megajet (with the largest transverse momentum).\n",
        "# 10,11,12,13) E2,Px2,Py2,Pz2: The four-vector of the subleading megajet (with the largest transverse momentum).\n",
        "# 14) HT: The scalar sum of the transverse momentum of the jets.\n",
        "# 15) MET: The magnitude of the vector sum of the transverse energy of the particles in the event.\n",
        "# 16) nJets: The number of jets with transverse momentum above 40 GeV.\n",
        "# 17) nBJets: The number of b-tagged jets with transverse momentum above 40 GeV."
      ],
      "metadata": {
        "id": "OAexc8dNrh1C"
      },
      "execution_count": null,
      "outputs": []
    },
    {
      "cell_type": "code",
      "source": [
        ""
      ],
      "metadata": {
        "id": "AOC8c9eTrpjD"
      },
      "execution_count": null,
      "outputs": []
    },
    {
      "cell_type": "code",
      "execution_count": null,
      "metadata": {
        "id": "9CCVbbxfpw3E"
      },
      "outputs": [],
      "source": [
        "from google.colab import drive"
      ]
    },
    {
      "cell_type": "code",
      "source": [
        "drive.mount('/content/drive')"
      ],
      "metadata": {
        "colab": {
          "base_uri": "https://localhost:8080/"
        },
        "id": "hlJe_76kp9WN",
        "outputId": "af38b098-88a7-4865-85ce-aefad48cdf78"
      },
      "execution_count": null,
      "outputs": [
        {
          "output_type": "stream",
          "name": "stdout",
          "text": [
            "Mounted at /content/drive\n"
          ]
        }
      ]
    },
    {
      "cell_type": "code",
      "source": [
        "import numpy as np\n",
        "import pandas as pd\n",
        "import seaborn as sns\n",
        "import matplotlib.pyplot as plt   \n",
        "import matplotlib.style "
      ],
      "metadata": {
        "id": "esCQsrT1qEfk"
      },
      "execution_count": null,
      "outputs": []
    },
    {
      "cell_type": "code",
      "source": [
        "pd.set_option('display.max_columns',None)\n",
        "pd.set_option('display.max_rows',None)"
      ],
      "metadata": {
        "id": "EsgeYBkzqsk1"
      },
      "execution_count": null,
      "outputs": []
    },
    {
      "cell_type": "code",
      "source": [
        "df=pd.read_csv('/content/drive/MyDrive/28 feb/MultiJetRun2010B.csv')\n",
        "df.head(3)"
      ],
      "metadata": {
        "colab": {
          "base_uri": "https://localhost:8080/",
          "height": 207
        },
        "id": "lc1MtcEHqzoe",
        "outputId": "e1d986b3-0af7-433d-efbe-fcf0f8cc1193"
      },
      "execution_count": null,
      "outputs": [
        {
          "output_type": "execute_result",
          "data": {
            "text/html": [
              "\n",
              "  <div id=\"df-07d82ae6-27fa-43ae-8b97-c04166241893\">\n",
              "    <div class=\"colab-df-container\">\n",
              "      <div>\n",
              "<style scoped>\n",
              "    .dataframe tbody tr th:only-of-type {\n",
              "        vertical-align: middle;\n",
              "    }\n",
              "\n",
              "    .dataframe tbody tr th {\n",
              "        vertical-align: top;\n",
              "    }\n",
              "\n",
              "    .dataframe thead th {\n",
              "        text-align: right;\n",
              "    }\n",
              "</style>\n",
              "<table border=\"1\" class=\"dataframe\">\n",
              "  <thead>\n",
              "    <tr style=\"text-align: right;\">\n",
              "      <th></th>\n",
              "      <th>Run</th>\n",
              "      <th>Lumi</th>\n",
              "      <th>Event</th>\n",
              "      <th>MR</th>\n",
              "      <th>Rsq</th>\n",
              "      <th>E1</th>\n",
              "      <th>Px1</th>\n",
              "      <th>Py1</th>\n",
              "      <th>Pz1</th>\n",
              "      <th>E2</th>\n",
              "      <th>Px2</th>\n",
              "      <th>Py2</th>\n",
              "      <th>Pz2</th>\n",
              "      <th>HT</th>\n",
              "      <th>MET</th>\n",
              "      <th>nJets</th>\n",
              "      <th>nBJets</th>\n",
              "    </tr>\n",
              "  </thead>\n",
              "  <tbody>\n",
              "    <tr>\n",
              "      <th>0</th>\n",
              "      <td>148029</td>\n",
              "      <td>388</td>\n",
              "      <td>302318745</td>\n",
              "      <td>215.553</td>\n",
              "      <td>0.031977</td>\n",
              "      <td>136.7100</td>\n",
              "      <td>-109.893</td>\n",
              "      <td>-54.03420</td>\n",
              "      <td>-58.9032</td>\n",
              "      <td>142.1790</td>\n",
              "      <td>70.0254</td>\n",
              "      <td>41.1225</td>\n",
              "      <td>-116.5130</td>\n",
              "      <td>203.666</td>\n",
              "      <td>18.3110</td>\n",
              "      <td>2</td>\n",
              "      <td>0</td>\n",
              "    </tr>\n",
              "    <tr>\n",
              "      <th>1</th>\n",
              "      <td>148029</td>\n",
              "      <td>388</td>\n",
              "      <td>302323641</td>\n",
              "      <td>155.437</td>\n",
              "      <td>0.042157</td>\n",
              "      <td>83.3865</td>\n",
              "      <td>81.150</td>\n",
              "      <td>6.88361</td>\n",
              "      <td>-12.9688</td>\n",
              "      <td>73.9025</td>\n",
              "      <td>-72.2472</td>\n",
              "      <td>11.8835</td>\n",
              "      <td>3.0899</td>\n",
              "      <td>154.659</td>\n",
              "      <td>14.7747</td>\n",
              "      <td>2</td>\n",
              "      <td>0</td>\n",
              "    </tr>\n",
              "    <tr>\n",
              "      <th>2</th>\n",
              "      <td>148029</td>\n",
              "      <td>388</td>\n",
              "      <td>302336217</td>\n",
              "      <td>400.563</td>\n",
              "      <td>0.026938</td>\n",
              "      <td>253.1840</td>\n",
              "      <td>139.902</td>\n",
              "      <td>102.64000</td>\n",
              "      <td>-101.9350</td>\n",
              "      <td>535.5510</td>\n",
              "      <td>-110.3790</td>\n",
              "      <td>-89.0929</td>\n",
              "      <td>-516.1790</td>\n",
              "      <td>343.280</td>\n",
              "      <td>25.2211</td>\n",
              "      <td>3</td>\n",
              "      <td>0</td>\n",
              "    </tr>\n",
              "  </tbody>\n",
              "</table>\n",
              "</div>\n",
              "      <button class=\"colab-df-convert\" onclick=\"convertToInteractive('df-07d82ae6-27fa-43ae-8b97-c04166241893')\"\n",
              "              title=\"Convert this dataframe to an interactive table.\"\n",
              "              style=\"display:none;\">\n",
              "        \n",
              "  <svg xmlns=\"http://www.w3.org/2000/svg\" height=\"24px\"viewBox=\"0 0 24 24\"\n",
              "       width=\"24px\">\n",
              "    <path d=\"M0 0h24v24H0V0z\" fill=\"none\"/>\n",
              "    <path d=\"M18.56 5.44l.94 2.06.94-2.06 2.06-.94-2.06-.94-.94-2.06-.94 2.06-2.06.94zm-11 1L8.5 8.5l.94-2.06 2.06-.94-2.06-.94L8.5 2.5l-.94 2.06-2.06.94zm10 10l.94 2.06.94-2.06 2.06-.94-2.06-.94-.94-2.06-.94 2.06-2.06.94z\"/><path d=\"M17.41 7.96l-1.37-1.37c-.4-.4-.92-.59-1.43-.59-.52 0-1.04.2-1.43.59L10.3 9.45l-7.72 7.72c-.78.78-.78 2.05 0 2.83L4 21.41c.39.39.9.59 1.41.59.51 0 1.02-.2 1.41-.59l7.78-7.78 2.81-2.81c.8-.78.8-2.07 0-2.86zM5.41 20L4 18.59l7.72-7.72 1.47 1.35L5.41 20z\"/>\n",
              "  </svg>\n",
              "      </button>\n",
              "      \n",
              "  <style>\n",
              "    .colab-df-container {\n",
              "      display:flex;\n",
              "      flex-wrap:wrap;\n",
              "      gap: 12px;\n",
              "    }\n",
              "\n",
              "    .colab-df-convert {\n",
              "      background-color: #E8F0FE;\n",
              "      border: none;\n",
              "      border-radius: 50%;\n",
              "      cursor: pointer;\n",
              "      display: none;\n",
              "      fill: #1967D2;\n",
              "      height: 32px;\n",
              "      padding: 0 0 0 0;\n",
              "      width: 32px;\n",
              "    }\n",
              "\n",
              "    .colab-df-convert:hover {\n",
              "      background-color: #E2EBFA;\n",
              "      box-shadow: 0px 1px 2px rgba(60, 64, 67, 0.3), 0px 1px 3px 1px rgba(60, 64, 67, 0.15);\n",
              "      fill: #174EA6;\n",
              "    }\n",
              "\n",
              "    [theme=dark] .colab-df-convert {\n",
              "      background-color: #3B4455;\n",
              "      fill: #D2E3FC;\n",
              "    }\n",
              "\n",
              "    [theme=dark] .colab-df-convert:hover {\n",
              "      background-color: #434B5C;\n",
              "      box-shadow: 0px 1px 3px 1px rgba(0, 0, 0, 0.15);\n",
              "      filter: drop-shadow(0px 1px 2px rgba(0, 0, 0, 0.3));\n",
              "      fill: #FFFFFF;\n",
              "    }\n",
              "  </style>\n",
              "\n",
              "      <script>\n",
              "        const buttonEl =\n",
              "          document.querySelector('#df-07d82ae6-27fa-43ae-8b97-c04166241893 button.colab-df-convert');\n",
              "        buttonEl.style.display =\n",
              "          google.colab.kernel.accessAllowed ? 'block' : 'none';\n",
              "\n",
              "        async function convertToInteractive(key) {\n",
              "          const element = document.querySelector('#df-07d82ae6-27fa-43ae-8b97-c04166241893');\n",
              "          const dataTable =\n",
              "            await google.colab.kernel.invokeFunction('convertToInteractive',\n",
              "                                                     [key], {});\n",
              "          if (!dataTable) return;\n",
              "\n",
              "          const docLinkHtml = 'Like what you see? Visit the ' +\n",
              "            '<a target=\"_blank\" href=https://colab.research.google.com/notebooks/data_table.ipynb>data table notebook</a>'\n",
              "            + ' to learn more about interactive tables.';\n",
              "          element.innerHTML = '';\n",
              "          dataTable['output_type'] = 'display_data';\n",
              "          await google.colab.output.renderOutput(dataTable, element);\n",
              "          const docLink = document.createElement('div');\n",
              "          docLink.innerHTML = docLinkHtml;\n",
              "          element.appendChild(docLink);\n",
              "        }\n",
              "      </script>\n",
              "    </div>\n",
              "  </div>\n",
              "  "
            ],
            "text/plain": [
              "      Run  Lumi      Event       MR       Rsq        E1      Px1        Py1  \\\n",
              "0  148029   388  302318745  215.553  0.031977  136.7100 -109.893  -54.03420   \n",
              "1  148029   388  302323641  155.437  0.042157   83.3865   81.150    6.88361   \n",
              "2  148029   388  302336217  400.563  0.026938  253.1840  139.902  102.64000   \n",
              "\n",
              "        Pz1        E2       Px2      Py2       Pz2       HT      MET  nJets  \\\n",
              "0  -58.9032  142.1790   70.0254  41.1225 -116.5130  203.666  18.3110      2   \n",
              "1  -12.9688   73.9025  -72.2472  11.8835    3.0899  154.659  14.7747      2   \n",
              "2 -101.9350  535.5510 -110.3790 -89.0929 -516.1790  343.280  25.2211      3   \n",
              "\n",
              "   nBJets  \n",
              "0       0  \n",
              "1       0  \n",
              "2       0  "
            ]
          },
          "metadata": {},
          "execution_count": 6
        }
      ]
    },
    {
      "cell_type": "code",
      "source": [
        "df.shape"
      ],
      "metadata": {
        "colab": {
          "base_uri": "https://localhost:8080/"
        },
        "id": "d0FIAMGrrFiT",
        "outputId": "e6b00b97-5a7e-47d4-e045-96d831e22370"
      },
      "execution_count": null,
      "outputs": [
        {
          "output_type": "execute_result",
          "data": {
            "text/plain": [
              "(21726, 17)"
            ]
          },
          "metadata": {},
          "execution_count": 7
        }
      ]
    },
    {
      "cell_type": "code",
      "source": [
        "df.info()"
      ],
      "metadata": {
        "colab": {
          "base_uri": "https://localhost:8080/"
        },
        "id": "kqEkZCTDrOV6",
        "outputId": "eb73c096-3d48-4410-97d9-54f00644dac9"
      },
      "execution_count": null,
      "outputs": [
        {
          "output_type": "stream",
          "name": "stdout",
          "text": [
            "<class 'pandas.core.frame.DataFrame'>\n",
            "RangeIndex: 21726 entries, 0 to 21725\n",
            "Data columns (total 17 columns):\n",
            " #   Column  Non-Null Count  Dtype  \n",
            "---  ------  --------------  -----  \n",
            " 0   Run     21726 non-null  int64  \n",
            " 1   Lumi    21726 non-null  int64  \n",
            " 2   Event   21726 non-null  int64  \n",
            " 3   MR      21726 non-null  float64\n",
            " 4   Rsq     21726 non-null  float64\n",
            " 5   E1      21726 non-null  float64\n",
            " 6   Px1     21726 non-null  float64\n",
            " 7   Py1     21726 non-null  float64\n",
            " 8   Pz1     21726 non-null  float64\n",
            " 9   E2      21726 non-null  float64\n",
            " 10  Px2     21726 non-null  float64\n",
            " 11  Py2     21726 non-null  float64\n",
            " 12  Pz2     21726 non-null  float64\n",
            " 13  HT      21726 non-null  float64\n",
            " 14  MET     21726 non-null  float64\n",
            " 15  nJets   21726 non-null  int64  \n",
            " 16  nBJets  21726 non-null  int64  \n",
            "dtypes: float64(12), int64(5)\n",
            "memory usage: 2.8 MB\n"
          ]
        }
      ]
    },
    {
      "cell_type": "code",
      "source": [
        "df.isnull().sum().sum()"
      ],
      "metadata": {
        "colab": {
          "base_uri": "https://localhost:8080/"
        },
        "id": "r5eFQP1mrPys",
        "outputId": "111d7af7-f73b-40f6-cdc3-931c88f47f33"
      },
      "execution_count": null,
      "outputs": [
        {
          "output_type": "execute_result",
          "data": {
            "text/plain": [
              "0"
            ]
          },
          "metadata": {},
          "execution_count": 9
        }
      ]
    },
    {
      "cell_type": "code",
      "source": [
        "df2=df\n",
        "df2.shape"
      ],
      "metadata": {
        "colab": {
          "base_uri": "https://localhost:8080/"
        },
        "id": "TMyqyJY3y7Xo",
        "outputId": "701d9e7d-8dab-4be5-becf-1eafce8334de"
      },
      "execution_count": null,
      "outputs": [
        {
          "output_type": "execute_result",
          "data": {
            "text/plain": [
              "(21726, 17)"
            ]
          },
          "metadata": {},
          "execution_count": 24
        }
      ]
    },
    {
      "cell_type": "code",
      "source": [
        "# Copy all the predictor variables into X dataframe\n",
        "X = df.drop('MR', axis=1)\n",
        "# Copy target into the y dataframe.This is the dependent variable\n",
        "y = df[['MR']]\n",
        "X.head()"
      ],
      "metadata": {
        "colab": {
          "base_uri": "https://localhost:8080/",
          "height": 250
        },
        "id": "gu_QRxPUrVaw",
        "outputId": "aa8f42a6-d356-4cb1-a1b5-57d729bfc14c"
      },
      "execution_count": null,
      "outputs": [
        {
          "output_type": "execute_result",
          "data": {
            "text/html": [
              "\n",
              "  <div id=\"df-3776feb9-f457-4e56-b13a-a9de804df719\">\n",
              "    <div class=\"colab-df-container\">\n",
              "      <div>\n",
              "<style scoped>\n",
              "    .dataframe tbody tr th:only-of-type {\n",
              "        vertical-align: middle;\n",
              "    }\n",
              "\n",
              "    .dataframe tbody tr th {\n",
              "        vertical-align: top;\n",
              "    }\n",
              "\n",
              "    .dataframe thead th {\n",
              "        text-align: right;\n",
              "    }\n",
              "</style>\n",
              "<table border=\"1\" class=\"dataframe\">\n",
              "  <thead>\n",
              "    <tr style=\"text-align: right;\">\n",
              "      <th></th>\n",
              "      <th>Run</th>\n",
              "      <th>Lumi</th>\n",
              "      <th>Event</th>\n",
              "      <th>Rsq</th>\n",
              "      <th>E1</th>\n",
              "      <th>Px1</th>\n",
              "      <th>Py1</th>\n",
              "      <th>Pz1</th>\n",
              "      <th>E2</th>\n",
              "      <th>Px2</th>\n",
              "      <th>Py2</th>\n",
              "      <th>Pz2</th>\n",
              "      <th>HT</th>\n",
              "      <th>MET</th>\n",
              "      <th>nJets</th>\n",
              "      <th>nBJets</th>\n",
              "    </tr>\n",
              "  </thead>\n",
              "  <tbody>\n",
              "    <tr>\n",
              "      <th>0</th>\n",
              "      <td>148029</td>\n",
              "      <td>388</td>\n",
              "      <td>302318745</td>\n",
              "      <td>0.031977</td>\n",
              "      <td>136.7100</td>\n",
              "      <td>-109.893</td>\n",
              "      <td>-54.03420</td>\n",
              "      <td>-58.9032</td>\n",
              "      <td>142.1790</td>\n",
              "      <td>70.0254</td>\n",
              "      <td>41.12250</td>\n",
              "      <td>-116.5130</td>\n",
              "      <td>203.666</td>\n",
              "      <td>18.31100</td>\n",
              "      <td>2</td>\n",
              "      <td>0</td>\n",
              "    </tr>\n",
              "    <tr>\n",
              "      <th>1</th>\n",
              "      <td>148029</td>\n",
              "      <td>388</td>\n",
              "      <td>302323641</td>\n",
              "      <td>0.042157</td>\n",
              "      <td>83.3865</td>\n",
              "      <td>81.150</td>\n",
              "      <td>6.88361</td>\n",
              "      <td>-12.9688</td>\n",
              "      <td>73.9025</td>\n",
              "      <td>-72.2472</td>\n",
              "      <td>11.88350</td>\n",
              "      <td>3.0899</td>\n",
              "      <td>154.659</td>\n",
              "      <td>14.77470</td>\n",
              "      <td>2</td>\n",
              "      <td>0</td>\n",
              "    </tr>\n",
              "    <tr>\n",
              "      <th>2</th>\n",
              "      <td>148029</td>\n",
              "      <td>388</td>\n",
              "      <td>302336217</td>\n",
              "      <td>0.026938</td>\n",
              "      <td>253.1840</td>\n",
              "      <td>139.902</td>\n",
              "      <td>102.64000</td>\n",
              "      <td>-101.9350</td>\n",
              "      <td>535.5510</td>\n",
              "      <td>-110.3790</td>\n",
              "      <td>-89.09290</td>\n",
              "      <td>-516.1790</td>\n",
              "      <td>343.280</td>\n",
              "      <td>25.22110</td>\n",
              "      <td>3</td>\n",
              "      <td>0</td>\n",
              "    </tr>\n",
              "    <tr>\n",
              "      <th>3</th>\n",
              "      <td>148029</td>\n",
              "      <td>388</td>\n",
              "      <td>302382289</td>\n",
              "      <td>0.094192</td>\n",
              "      <td>175.4860</td>\n",
              "      <td>-156.024</td>\n",
              "      <td>-62.95350</td>\n",
              "      <td>-47.7434</td>\n",
              "      <td>112.8510</td>\n",
              "      <td>89.0843</td>\n",
              "      <td>3.45025</td>\n",
              "      <td>67.9007</td>\n",
              "      <td>257.397</td>\n",
              "      <td>46.02880</td>\n",
              "      <td>2</td>\n",
              "      <td>0</td>\n",
              "    </tr>\n",
              "    <tr>\n",
              "      <th>4</th>\n",
              "      <td>148029</td>\n",
              "      <td>388</td>\n",
              "      <td>302403873</td>\n",
              "      <td>0.018804</td>\n",
              "      <td>833.7950</td>\n",
              "      <td>100.410</td>\n",
              "      <td>-16.65900</td>\n",
              "      <td>-827.4980</td>\n",
              "      <td>445.6120</td>\n",
              "      <td>-91.1991</td>\n",
              "      <td>15.55830</td>\n",
              "      <td>-390.1440</td>\n",
              "      <td>269.492</td>\n",
              "      <td>8.11345</td>\n",
              "      <td>3</td>\n",
              "      <td>0</td>\n",
              "    </tr>\n",
              "  </tbody>\n",
              "</table>\n",
              "</div>\n",
              "      <button class=\"colab-df-convert\" onclick=\"convertToInteractive('df-3776feb9-f457-4e56-b13a-a9de804df719')\"\n",
              "              title=\"Convert this dataframe to an interactive table.\"\n",
              "              style=\"display:none;\">\n",
              "        \n",
              "  <svg xmlns=\"http://www.w3.org/2000/svg\" height=\"24px\"viewBox=\"0 0 24 24\"\n",
              "       width=\"24px\">\n",
              "    <path d=\"M0 0h24v24H0V0z\" fill=\"none\"/>\n",
              "    <path d=\"M18.56 5.44l.94 2.06.94-2.06 2.06-.94-2.06-.94-.94-2.06-.94 2.06-2.06.94zm-11 1L8.5 8.5l.94-2.06 2.06-.94-2.06-.94L8.5 2.5l-.94 2.06-2.06.94zm10 10l.94 2.06.94-2.06 2.06-.94-2.06-.94-.94-2.06-.94 2.06-2.06.94z\"/><path d=\"M17.41 7.96l-1.37-1.37c-.4-.4-.92-.59-1.43-.59-.52 0-1.04.2-1.43.59L10.3 9.45l-7.72 7.72c-.78.78-.78 2.05 0 2.83L4 21.41c.39.39.9.59 1.41.59.51 0 1.02-.2 1.41-.59l7.78-7.78 2.81-2.81c.8-.78.8-2.07 0-2.86zM5.41 20L4 18.59l7.72-7.72 1.47 1.35L5.41 20z\"/>\n",
              "  </svg>\n",
              "      </button>\n",
              "      \n",
              "  <style>\n",
              "    .colab-df-container {\n",
              "      display:flex;\n",
              "      flex-wrap:wrap;\n",
              "      gap: 12px;\n",
              "    }\n",
              "\n",
              "    .colab-df-convert {\n",
              "      background-color: #E8F0FE;\n",
              "      border: none;\n",
              "      border-radius: 50%;\n",
              "      cursor: pointer;\n",
              "      display: none;\n",
              "      fill: #1967D2;\n",
              "      height: 32px;\n",
              "      padding: 0 0 0 0;\n",
              "      width: 32px;\n",
              "    }\n",
              "\n",
              "    .colab-df-convert:hover {\n",
              "      background-color: #E2EBFA;\n",
              "      box-shadow: 0px 1px 2px rgba(60, 64, 67, 0.3), 0px 1px 3px 1px rgba(60, 64, 67, 0.15);\n",
              "      fill: #174EA6;\n",
              "    }\n",
              "\n",
              "    [theme=dark] .colab-df-convert {\n",
              "      background-color: #3B4455;\n",
              "      fill: #D2E3FC;\n",
              "    }\n",
              "\n",
              "    [theme=dark] .colab-df-convert:hover {\n",
              "      background-color: #434B5C;\n",
              "      box-shadow: 0px 1px 3px 1px rgba(0, 0, 0, 0.15);\n",
              "      filter: drop-shadow(0px 1px 2px rgba(0, 0, 0, 0.3));\n",
              "      fill: #FFFFFF;\n",
              "    }\n",
              "  </style>\n",
              "\n",
              "      <script>\n",
              "        const buttonEl =\n",
              "          document.querySelector('#df-3776feb9-f457-4e56-b13a-a9de804df719 button.colab-df-convert');\n",
              "        buttonEl.style.display =\n",
              "          google.colab.kernel.accessAllowed ? 'block' : 'none';\n",
              "\n",
              "        async function convertToInteractive(key) {\n",
              "          const element = document.querySelector('#df-3776feb9-f457-4e56-b13a-a9de804df719');\n",
              "          const dataTable =\n",
              "            await google.colab.kernel.invokeFunction('convertToInteractive',\n",
              "                                                     [key], {});\n",
              "          if (!dataTable) return;\n",
              "\n",
              "          const docLinkHtml = 'Like what you see? Visit the ' +\n",
              "            '<a target=\"_blank\" href=https://colab.research.google.com/notebooks/data_table.ipynb>data table notebook</a>'\n",
              "            + ' to learn more about interactive tables.';\n",
              "          element.innerHTML = '';\n",
              "          dataTable['output_type'] = 'display_data';\n",
              "          await google.colab.output.renderOutput(dataTable, element);\n",
              "          const docLink = document.createElement('div');\n",
              "          docLink.innerHTML = docLinkHtml;\n",
              "          element.appendChild(docLink);\n",
              "        }\n",
              "      </script>\n",
              "    </div>\n",
              "  </div>\n",
              "  "
            ],
            "text/plain": [
              "      Run  Lumi      Event       Rsq        E1      Px1        Py1       Pz1  \\\n",
              "0  148029   388  302318745  0.031977  136.7100 -109.893  -54.03420  -58.9032   \n",
              "1  148029   388  302323641  0.042157   83.3865   81.150    6.88361  -12.9688   \n",
              "2  148029   388  302336217  0.026938  253.1840  139.902  102.64000 -101.9350   \n",
              "3  148029   388  302382289  0.094192  175.4860 -156.024  -62.95350  -47.7434   \n",
              "4  148029   388  302403873  0.018804  833.7950  100.410  -16.65900 -827.4980   \n",
              "\n",
              "         E2       Px2       Py2       Pz2       HT       MET  nJets  nBJets  \n",
              "0  142.1790   70.0254  41.12250 -116.5130  203.666  18.31100      2       0  \n",
              "1   73.9025  -72.2472  11.88350    3.0899  154.659  14.77470      2       0  \n",
              "2  535.5510 -110.3790 -89.09290 -516.1790  343.280  25.22110      3       0  \n",
              "3  112.8510   89.0843   3.45025   67.9007  257.397  46.02880      2       0  \n",
              "4  445.6120  -91.1991  15.55830 -390.1440  269.492   8.11345      3       0  "
            ]
          },
          "metadata": {},
          "execution_count": 14
        }
      ]
    },
    {
      "cell_type": "code",
      "source": [
        "X.shape"
      ],
      "metadata": {
        "colab": {
          "base_uri": "https://localhost:8080/"
        },
        "id": "hbdnKW8uzG-n",
        "outputId": "d91d04cb-268e-47fd-f348-ddfb0e671c51"
      },
      "execution_count": null,
      "outputs": [
        {
          "output_type": "execute_result",
          "data": {
            "text/plain": [
              "(21726, 16)"
            ]
          },
          "metadata": {},
          "execution_count": 25
        }
      ]
    },
    {
      "cell_type": "code",
      "source": [
        "#Let us break the X and y dataframes into training set and test set. For this we will use\n",
        "#Sklearn package's data splitting function which is based on random function\n",
        "\n",
        "from sklearn.model_selection import  train_test_split\n",
        "# Split X and y into training and test set in 65:35 ratio\n",
        "\n",
        "X_train, X_test, y_train, y_test = train_test_split(X, y, test_size=0.35 , random_state=10)"
      ],
      "metadata": {
        "id": "vxa1oa2xtqqP"
      },
      "execution_count": null,
      "outputs": []
    },
    {
      "cell_type": "code",
      "source": [
        "# invoke the LinearRegression function and find the bestfit model on training data\n",
        "from sklearn.linear_model import  LinearRegression\n",
        "regression_model = LinearRegression()\n",
        "regression_model.fit(X_train, y_train)\n",
        "regression_model.score(X_train, y_train)"
      ],
      "metadata": {
        "colab": {
          "base_uri": "https://localhost:8080/"
        },
        "id": "kcE6YglLt1-T",
        "outputId": "be532cf1-6d65-48d7-cbc5-c866840b6755"
      },
      "execution_count": null,
      "outputs": [
        {
          "output_type": "execute_result",
          "data": {
            "text/plain": [
              "0.5865211320153703"
            ]
          },
          "metadata": {},
          "execution_count": 16
        }
      ]
    },
    {
      "cell_type": "code",
      "source": [
        "regression_model.score(X_test, y_test)"
      ],
      "metadata": {
        "colab": {
          "base_uri": "https://localhost:8080/"
        },
        "id": "j08aKhQVuENG",
        "outputId": "a58f2408-084e-4cf9-c3c2-15e593b282c0"
      },
      "execution_count": null,
      "outputs": [
        {
          "output_type": "execute_result",
          "data": {
            "text/plain": [
              "0.57358486643931"
            ]
          },
          "metadata": {},
          "execution_count": 17
        }
      ]
    },
    {
      "cell_type": "code",
      "source": [
        "from sklearn.tree import DecisionTreeRegressor\n",
        "dtree=DecisionTreeRegressor(max_depth=25)\n",
        "dtree.fit(X_train, y_train)"
      ],
      "metadata": {
        "colab": {
          "base_uri": "https://localhost:8080/"
        },
        "id": "rjipIF9UuF3x",
        "outputId": "4c6639c1-fa76-4561-d9f2-9f8f4d9cac4e"
      },
      "execution_count": null,
      "outputs": [
        {
          "output_type": "execute_result",
          "data": {
            "text/plain": [
              "DecisionTreeRegressor(max_depth=25)"
            ]
          },
          "metadata": {},
          "execution_count": 18
        }
      ]
    },
    {
      "cell_type": "code",
      "source": [
        "\n",
        "dtree.score(X_train, y_train)"
      ],
      "metadata": {
        "colab": {
          "base_uri": "https://localhost:8080/"
        },
        "id": "xM_iKnNBuP1p",
        "outputId": "ffd3f533-7de2-428e-a0ff-e655a8ba6177"
      },
      "execution_count": null,
      "outputs": [
        {
          "output_type": "execute_result",
          "data": {
            "text/plain": [
              "0.9999999914052359"
            ]
          },
          "metadata": {},
          "execution_count": 19
        }
      ]
    },
    {
      "cell_type": "code",
      "source": [
        "dtree.score(X_test, y_test)"
      ],
      "metadata": {
        "colab": {
          "base_uri": "https://localhost:8080/"
        },
        "id": "yxFLft8zuUEV",
        "outputId": "b012392d-2000-4376-d4c0-397b789df8ff"
      },
      "execution_count": null,
      "outputs": [
        {
          "output_type": "execute_result",
          "data": {
            "text/plain": [
              "0.8790927337542787"
            ]
          },
          "metadata": {},
          "execution_count": 20
        }
      ]
    },
    {
      "cell_type": "code",
      "source": [
        "from sklearn.ensemble import GradientBoostingRegressor\n",
        "m = GradientBoostingRegressor(random_state=0).fit(X_train, y_train)\n",
        "m.score(X_train, y_train)"
      ],
      "metadata": {
        "colab": {
          "base_uri": "https://localhost:8080/"
        },
        "id": "nIu8cB3AuYj_",
        "outputId": "d53abcba-4cda-4ca5-b5d1-2c0189941412"
      },
      "execution_count": null,
      "outputs": [
        {
          "output_type": "stream",
          "name": "stderr",
          "text": [
            "/usr/local/lib/python3.7/dist-packages/sklearn/ensemble/_gb.py:494: DataConversionWarning: A column-vector y was passed when a 1d array was expected. Please change the shape of y to (n_samples, ), for example using ravel().\n",
            "  y = column_or_1d(y, warn=True)\n"
          ]
        },
        {
          "output_type": "execute_result",
          "data": {
            "text/plain": [
              "0.9580603442745916"
            ]
          },
          "metadata": {},
          "execution_count": 21
        }
      ]
    },
    {
      "cell_type": "code",
      "source": [
        "m.score(X_test, y_test)"
      ],
      "metadata": {
        "colab": {
          "base_uri": "https://localhost:8080/"
        },
        "id": "nk65opNtuep4",
        "outputId": "5daf7fe9-acfb-43f3-bf10-1462479a38c0"
      },
      "execution_count": null,
      "outputs": [
        {
          "output_type": "execute_result",
          "data": {
            "text/plain": [
              "0.9425727580512294"
            ]
          },
          "metadata": {},
          "execution_count": 22
        }
      ]
    },
    {
      "cell_type": "code",
      "source": [
        "# Copy all the predictor variables into X dataframe\n",
        "X2 = df2.drop('Rsq', axis=1)\n",
        "# Copy target into the y dataframe.This is the dependent variable\n",
        "y2 = df2[['Rsq']]\n",
        "X2.head()"
      ],
      "metadata": {
        "colab": {
          "base_uri": "https://localhost:8080/",
          "height": 250
        },
        "id": "zYax6bQouiNx",
        "outputId": "17c3201b-3843-49d4-a4a9-338edb31ea39"
      },
      "execution_count": null,
      "outputs": [
        {
          "output_type": "execute_result",
          "data": {
            "text/html": [
              "\n",
              "  <div id=\"df-0e440096-d890-4a98-858c-682b2f2dc836\">\n",
              "    <div class=\"colab-df-container\">\n",
              "      <div>\n",
              "<style scoped>\n",
              "    .dataframe tbody tr th:only-of-type {\n",
              "        vertical-align: middle;\n",
              "    }\n",
              "\n",
              "    .dataframe tbody tr th {\n",
              "        vertical-align: top;\n",
              "    }\n",
              "\n",
              "    .dataframe thead th {\n",
              "        text-align: right;\n",
              "    }\n",
              "</style>\n",
              "<table border=\"1\" class=\"dataframe\">\n",
              "  <thead>\n",
              "    <tr style=\"text-align: right;\">\n",
              "      <th></th>\n",
              "      <th>Run</th>\n",
              "      <th>Lumi</th>\n",
              "      <th>Event</th>\n",
              "      <th>MR</th>\n",
              "      <th>E1</th>\n",
              "      <th>Px1</th>\n",
              "      <th>Py1</th>\n",
              "      <th>Pz1</th>\n",
              "      <th>E2</th>\n",
              "      <th>Px2</th>\n",
              "      <th>Py2</th>\n",
              "      <th>Pz2</th>\n",
              "      <th>HT</th>\n",
              "      <th>MET</th>\n",
              "      <th>nJets</th>\n",
              "      <th>nBJets</th>\n",
              "    </tr>\n",
              "  </thead>\n",
              "  <tbody>\n",
              "    <tr>\n",
              "      <th>0</th>\n",
              "      <td>148029</td>\n",
              "      <td>388</td>\n",
              "      <td>302318745</td>\n",
              "      <td>215.553</td>\n",
              "      <td>136.7100</td>\n",
              "      <td>-109.893</td>\n",
              "      <td>-54.03420</td>\n",
              "      <td>-58.9032</td>\n",
              "      <td>142.1790</td>\n",
              "      <td>70.0254</td>\n",
              "      <td>41.12250</td>\n",
              "      <td>-116.5130</td>\n",
              "      <td>203.666</td>\n",
              "      <td>18.31100</td>\n",
              "      <td>2</td>\n",
              "      <td>0</td>\n",
              "    </tr>\n",
              "    <tr>\n",
              "      <th>1</th>\n",
              "      <td>148029</td>\n",
              "      <td>388</td>\n",
              "      <td>302323641</td>\n",
              "      <td>155.437</td>\n",
              "      <td>83.3865</td>\n",
              "      <td>81.150</td>\n",
              "      <td>6.88361</td>\n",
              "      <td>-12.9688</td>\n",
              "      <td>73.9025</td>\n",
              "      <td>-72.2472</td>\n",
              "      <td>11.88350</td>\n",
              "      <td>3.0899</td>\n",
              "      <td>154.659</td>\n",
              "      <td>14.77470</td>\n",
              "      <td>2</td>\n",
              "      <td>0</td>\n",
              "    </tr>\n",
              "    <tr>\n",
              "      <th>2</th>\n",
              "      <td>148029</td>\n",
              "      <td>388</td>\n",
              "      <td>302336217</td>\n",
              "      <td>400.563</td>\n",
              "      <td>253.1840</td>\n",
              "      <td>139.902</td>\n",
              "      <td>102.64000</td>\n",
              "      <td>-101.9350</td>\n",
              "      <td>535.5510</td>\n",
              "      <td>-110.3790</td>\n",
              "      <td>-89.09290</td>\n",
              "      <td>-516.1790</td>\n",
              "      <td>343.280</td>\n",
              "      <td>25.22110</td>\n",
              "      <td>3</td>\n",
              "      <td>0</td>\n",
              "    </tr>\n",
              "    <tr>\n",
              "      <th>3</th>\n",
              "      <td>148029</td>\n",
              "      <td>388</td>\n",
              "      <td>302382289</td>\n",
              "      <td>286.245</td>\n",
              "      <td>175.4860</td>\n",
              "      <td>-156.024</td>\n",
              "      <td>-62.95350</td>\n",
              "      <td>-47.7434</td>\n",
              "      <td>112.8510</td>\n",
              "      <td>89.0843</td>\n",
              "      <td>3.45025</td>\n",
              "      <td>67.9007</td>\n",
              "      <td>257.397</td>\n",
              "      <td>46.02880</td>\n",
              "      <td>2</td>\n",
              "      <td>0</td>\n",
              "    </tr>\n",
              "    <tr>\n",
              "      <th>4</th>\n",
              "      <td>148029</td>\n",
              "      <td>388</td>\n",
              "      <td>302403873</td>\n",
              "      <td>204.514</td>\n",
              "      <td>833.7950</td>\n",
              "      <td>100.410</td>\n",
              "      <td>-16.65900</td>\n",
              "      <td>-827.4980</td>\n",
              "      <td>445.6120</td>\n",
              "      <td>-91.1991</td>\n",
              "      <td>15.55830</td>\n",
              "      <td>-390.1440</td>\n",
              "      <td>269.492</td>\n",
              "      <td>8.11345</td>\n",
              "      <td>3</td>\n",
              "      <td>0</td>\n",
              "    </tr>\n",
              "  </tbody>\n",
              "</table>\n",
              "</div>\n",
              "      <button class=\"colab-df-convert\" onclick=\"convertToInteractive('df-0e440096-d890-4a98-858c-682b2f2dc836')\"\n",
              "              title=\"Convert this dataframe to an interactive table.\"\n",
              "              style=\"display:none;\">\n",
              "        \n",
              "  <svg xmlns=\"http://www.w3.org/2000/svg\" height=\"24px\"viewBox=\"0 0 24 24\"\n",
              "       width=\"24px\">\n",
              "    <path d=\"M0 0h24v24H0V0z\" fill=\"none\"/>\n",
              "    <path d=\"M18.56 5.44l.94 2.06.94-2.06 2.06-.94-2.06-.94-.94-2.06-.94 2.06-2.06.94zm-11 1L8.5 8.5l.94-2.06 2.06-.94-2.06-.94L8.5 2.5l-.94 2.06-2.06.94zm10 10l.94 2.06.94-2.06 2.06-.94-2.06-.94-.94-2.06-.94 2.06-2.06.94z\"/><path d=\"M17.41 7.96l-1.37-1.37c-.4-.4-.92-.59-1.43-.59-.52 0-1.04.2-1.43.59L10.3 9.45l-7.72 7.72c-.78.78-.78 2.05 0 2.83L4 21.41c.39.39.9.59 1.41.59.51 0 1.02-.2 1.41-.59l7.78-7.78 2.81-2.81c.8-.78.8-2.07 0-2.86zM5.41 20L4 18.59l7.72-7.72 1.47 1.35L5.41 20z\"/>\n",
              "  </svg>\n",
              "      </button>\n",
              "      \n",
              "  <style>\n",
              "    .colab-df-container {\n",
              "      display:flex;\n",
              "      flex-wrap:wrap;\n",
              "      gap: 12px;\n",
              "    }\n",
              "\n",
              "    .colab-df-convert {\n",
              "      background-color: #E8F0FE;\n",
              "      border: none;\n",
              "      border-radius: 50%;\n",
              "      cursor: pointer;\n",
              "      display: none;\n",
              "      fill: #1967D2;\n",
              "      height: 32px;\n",
              "      padding: 0 0 0 0;\n",
              "      width: 32px;\n",
              "    }\n",
              "\n",
              "    .colab-df-convert:hover {\n",
              "      background-color: #E2EBFA;\n",
              "      box-shadow: 0px 1px 2px rgba(60, 64, 67, 0.3), 0px 1px 3px 1px rgba(60, 64, 67, 0.15);\n",
              "      fill: #174EA6;\n",
              "    }\n",
              "\n",
              "    [theme=dark] .colab-df-convert {\n",
              "      background-color: #3B4455;\n",
              "      fill: #D2E3FC;\n",
              "    }\n",
              "\n",
              "    [theme=dark] .colab-df-convert:hover {\n",
              "      background-color: #434B5C;\n",
              "      box-shadow: 0px 1px 3px 1px rgba(0, 0, 0, 0.15);\n",
              "      filter: drop-shadow(0px 1px 2px rgba(0, 0, 0, 0.3));\n",
              "      fill: #FFFFFF;\n",
              "    }\n",
              "  </style>\n",
              "\n",
              "      <script>\n",
              "        const buttonEl =\n",
              "          document.querySelector('#df-0e440096-d890-4a98-858c-682b2f2dc836 button.colab-df-convert');\n",
              "        buttonEl.style.display =\n",
              "          google.colab.kernel.accessAllowed ? 'block' : 'none';\n",
              "\n",
              "        async function convertToInteractive(key) {\n",
              "          const element = document.querySelector('#df-0e440096-d890-4a98-858c-682b2f2dc836');\n",
              "          const dataTable =\n",
              "            await google.colab.kernel.invokeFunction('convertToInteractive',\n",
              "                                                     [key], {});\n",
              "          if (!dataTable) return;\n",
              "\n",
              "          const docLinkHtml = 'Like what you see? Visit the ' +\n",
              "            '<a target=\"_blank\" href=https://colab.research.google.com/notebooks/data_table.ipynb>data table notebook</a>'\n",
              "            + ' to learn more about interactive tables.';\n",
              "          element.innerHTML = '';\n",
              "          dataTable['output_type'] = 'display_data';\n",
              "          await google.colab.output.renderOutput(dataTable, element);\n",
              "          const docLink = document.createElement('div');\n",
              "          docLink.innerHTML = docLinkHtml;\n",
              "          element.appendChild(docLink);\n",
              "        }\n",
              "      </script>\n",
              "    </div>\n",
              "  </div>\n",
              "  "
            ],
            "text/plain": [
              "      Run  Lumi      Event       MR        E1      Px1        Py1       Pz1  \\\n",
              "0  148029   388  302318745  215.553  136.7100 -109.893  -54.03420  -58.9032   \n",
              "1  148029   388  302323641  155.437   83.3865   81.150    6.88361  -12.9688   \n",
              "2  148029   388  302336217  400.563  253.1840  139.902  102.64000 -101.9350   \n",
              "3  148029   388  302382289  286.245  175.4860 -156.024  -62.95350  -47.7434   \n",
              "4  148029   388  302403873  204.514  833.7950  100.410  -16.65900 -827.4980   \n",
              "\n",
              "         E2       Px2       Py2       Pz2       HT       MET  nJets  nBJets  \n",
              "0  142.1790   70.0254  41.12250 -116.5130  203.666  18.31100      2       0  \n",
              "1   73.9025  -72.2472  11.88350    3.0899  154.659  14.77470      2       0  \n",
              "2  535.5510 -110.3790 -89.09290 -516.1790  343.280  25.22110      3       0  \n",
              "3  112.8510   89.0843   3.45025   67.9007  257.397  46.02880      2       0  \n",
              "4  445.6120  -91.1991  15.55830 -390.1440  269.492   8.11345      3       0  "
            ]
          },
          "metadata": {},
          "execution_count": 26
        }
      ]
    },
    {
      "cell_type": "code",
      "source": [
        "X2.shape"
      ],
      "metadata": {
        "colab": {
          "base_uri": "https://localhost:8080/"
        },
        "id": "VImP3gZuzaBY",
        "outputId": "e9bb3bb8-f86b-4256-b344-49f1ca5076f8"
      },
      "execution_count": null,
      "outputs": [
        {
          "output_type": "execute_result",
          "data": {
            "text/plain": [
              "(21726, 16)"
            ]
          },
          "metadata": {},
          "execution_count": 27
        }
      ]
    },
    {
      "cell_type": "code",
      "source": [
        "#Let us break the X and y dataframes into training set and test set. For this we will use\n",
        "#Sklearn package's data splitting function which is based on random function\n",
        "\n",
        "from sklearn.model_selection import  train_test_split\n",
        "# Split X and y into training and test set in 65:35 ratio\n",
        "\n",
        "X2_train, X2_test, y2_train, y2_test = train_test_split(X2, y2, test_size=0.35 , random_state=10)"
      ],
      "metadata": {
        "id": "c_c1uu09zdo5"
      },
      "execution_count": null,
      "outputs": []
    },
    {
      "cell_type": "code",
      "source": [
        "# invoke the LinearRegression function and find the bestfit model on training data\n",
        "from sklearn.linear_model import  LinearRegression\n",
        "regression_model = LinearRegression()\n",
        "regression_model.fit(X2_train, y_train)\n",
        "\n",
        "regression_model.score(X2_train, y_train)"
      ],
      "metadata": {
        "colab": {
          "base_uri": "https://localhost:8080/"
        },
        "id": "bWcA-T9sznbT",
        "outputId": "70b535d1-8aec-4369-bfc7-20d7e3cd2d65"
      },
      "execution_count": null,
      "outputs": [
        {
          "output_type": "execute_result",
          "data": {
            "text/plain": [
              "1.0"
            ]
          },
          "metadata": {},
          "execution_count": 29
        }
      ]
    },
    {
      "cell_type": "code",
      "source": [
        "from sklearn.tree import DecisionTreeRegressor\n",
        "dtree=DecisionTreeRegressor(max_depth=25)\n",
        "dtree.fit(X2_train, y2_train)"
      ],
      "metadata": {
        "colab": {
          "base_uri": "https://localhost:8080/"
        },
        "id": "dChG7Qg8zt6S",
        "outputId": "e8340077-8bdd-4f3d-e4b3-5b9b269c4049"
      },
      "execution_count": null,
      "outputs": [
        {
          "output_type": "execute_result",
          "data": {
            "text/plain": [
              "DecisionTreeRegressor(max_depth=25)"
            ]
          },
          "metadata": {},
          "execution_count": 30
        }
      ]
    },
    {
      "cell_type": "code",
      "source": [
        "dtree.score(X2_train, y2_train)"
      ],
      "metadata": {
        "colab": {
          "base_uri": "https://localhost:8080/"
        },
        "id": "v1C02Imhz3VP",
        "outputId": "9c7e4b2b-a2b5-470b-cc03-c993b91debbe"
      },
      "execution_count": null,
      "outputs": [
        {
          "output_type": "execute_result",
          "data": {
            "text/plain": [
              "0.9999907921656159"
            ]
          },
          "metadata": {},
          "execution_count": 31
        }
      ]
    },
    {
      "cell_type": "code",
      "source": [
        "dtree.score(X2_test, y2_test)"
      ],
      "metadata": {
        "colab": {
          "base_uri": "https://localhost:8080/"
        },
        "id": "qTBpDjmKz_Y_",
        "outputId": "b8910dcf-9d34-48ad-e7bb-7c8d13ee43b1"
      },
      "execution_count": null,
      "outputs": [
        {
          "output_type": "execute_result",
          "data": {
            "text/plain": [
              "0.8673291712227369"
            ]
          },
          "metadata": {},
          "execution_count": 33
        }
      ]
    },
    {
      "cell_type": "code",
      "source": [
        "from sklearn.ensemble import GradientBoostingRegressor\n",
        "m = GradientBoostingRegressor(random_state=0).fit(X2_train, y2_train)\n",
        "m.score(X2_train, y2_train)"
      ],
      "metadata": {
        "colab": {
          "base_uri": "https://localhost:8080/"
        },
        "id": "0BuIzvcO0Wp-",
        "outputId": "6e7beb07-646e-4db9-97e5-0528935c0412"
      },
      "execution_count": null,
      "outputs": [
        {
          "output_type": "stream",
          "name": "stderr",
          "text": [
            "/usr/local/lib/python3.7/dist-packages/sklearn/ensemble/_gb.py:494: DataConversionWarning: A column-vector y was passed when a 1d array was expected. Please change the shape of y to (n_samples, ), for example using ravel().\n",
            "  y = column_or_1d(y, warn=True)\n"
          ]
        },
        {
          "output_type": "execute_result",
          "data": {
            "text/plain": [
              "0.9610011410513603"
            ]
          },
          "metadata": {},
          "execution_count": 36
        }
      ]
    },
    {
      "cell_type": "code",
      "source": [
        "m.score(X2_test, y2_test)"
      ],
      "metadata": {
        "colab": {
          "base_uri": "https://localhost:8080/"
        },
        "id": "xtPgDItb0e57",
        "outputId": "fc1d492c-78ef-46f0-d54c-02cf34980793"
      },
      "execution_count": null,
      "outputs": [
        {
          "output_type": "execute_result",
          "data": {
            "text/plain": [
              "0.9359445009523338"
            ]
          },
          "metadata": {},
          "execution_count": 37
        }
      ]
    },
    {
      "cell_type": "code",
      "source": [
        ""
      ],
      "metadata": {
        "id": "nJj0Z_mn0nro"
      },
      "execution_count": null,
      "outputs": []
    }
  ]
}